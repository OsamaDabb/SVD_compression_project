{
 "cells": [
  {
   "cell_type": "markdown",
   "source": [
    "# Imports & Definitions"
   ],
   "metadata": {
    "collapsed": false
   },
   "id": "854ddfed8d0bf1a5"
  },
  {
   "cell_type": "code",
   "outputs": [],
   "source": [
    "from SVD_utils import *\n",
    "from Error_utils import *\n",
    "import json\n",
    "import numpy as np"
   ],
   "metadata": {
    "collapsed": true,
    "ExecuteTime": {
     "end_time": "2024-11-11T12:24:00.942646Z",
     "start_time": "2024-11-11T12:23:58.791064Z"
    }
   },
   "id": "initial_id",
   "execution_count": 1
  },
  {
   "cell_type": "markdown",
   "source": [
    "# Creating arrayD"
   ],
   "metadata": {
    "collapsed": false
   },
   "id": "9862a3ae8b0122da"
  },
  {
   "cell_type": "code",
   "outputs": [],
   "source": [
    "deleteArrays(D=True)\n",
    "createDB(\"arrayD\", \"Temperatures\", (num_images, image_height, image_width), (tile_thickness, tile_height, tile_width))\n",
    "max_val, min_val, data_avg = populateArrayD()\n",
    "vRange = max_val - min_val\n",
    "\n",
    "param_dict = {}\n",
    "parameter_names = [\"max_val\", \"min_val\", \"data_avg\", \"vRange\"]\n",
    "\n",
    "for i in parameter_names:\n",
    "    param_dict[i] = float(globals()[i])\n",
    "\n",
    "with open(\"parameters.json\", \"w\") as f:\n",
    "    json.dump(param_dict, f)"
   ],
   "metadata": {
    "collapsed": false,
    "ExecuteTime": {
     "end_time": "2024-11-10T09:24:40.120077Z",
     "start_time": "2024-11-10T09:23:36.101186Z"
    }
   },
   "id": "e7a20d32a3d1c085",
   "execution_count": 5
  },
  {
   "cell_type": "markdown",
   "source": [
    "# SVD related work"
   ],
   "metadata": {
    "collapsed": false
   },
   "id": "80263d7bf3561208"
  },
  {
   "cell_type": "code",
   "outputs": [],
   "source": [
    "with open(\"parameters.json\", \"r\") as f:\n",
    "    param_dict = json.load(f)\n",
    "\n",
    "for key, value in param_dict.items():\n",
    "    globals()[key] = np.float32(value)"
   ],
   "metadata": {
    "collapsed": false,
    "ExecuteTime": {
     "end_time": "2024-11-11T12:24:04.352351Z",
     "start_time": "2024-11-11T12:24:04.346337Z"
    }
   },
   "id": "96cc1e277b0b7aaf",
   "execution_count": 2
  },
  {
   "cell_type": "code",
   "outputs": [],
   "source": [
    "deleteArrays(D=False)\n",
    "createDB(\"arrayUr\", \"U\", db_shape=(num_SVD_matrices, SVD_shape[0], k), tile_shape=(1,SVD_shape[0],k), data_type=np.float32)\n",
    "createDB(\"arraySr\", \"S\", db_shape=(num_SVD_matrices, k, 1), tile_shape=(1,k,1), data_type=np.float32)\n",
    "createDB(\"arrayVr\", \"V\", db_shape=(num_SVD_matrices, k, SVD_shape[1]), tile_shape=(1,k,SVD_shape[1]), data_type=np.float32)"
   ],
   "metadata": {
    "collapsed": false,
    "ExecuteTime": {
     "end_time": "2024-11-11T12:24:11.102116Z",
     "start_time": "2024-11-11T12:24:07.777936Z"
    }
   },
   "id": "74cecb0e2fda26eb",
   "execution_count": 3
  },
  {
   "cell_type": "code",
   "outputs": [
    {
     "name": "stderr",
     "output_type": "stream",
     "text": [
      "100%|██████████| 1215/1215 [04:35<00:00,  4.42it/s]\n"
     ]
    }
   ],
   "source": [
    "max_error, min_error, percent_error = compressData(data_avg, vRange)"
   ],
   "metadata": {
    "collapsed": false,
    "ExecuteTime": {
     "end_time": "2024-11-11T12:28:46.302790Z",
     "start_time": "2024-11-11T12:24:11.103087Z"
    }
   },
   "id": "4ad07cb190597968",
   "execution_count": 4
  },
  {
   "cell_type": "code",
   "outputs": [
    {
     "name": "stdout",
     "output_type": "stream",
     "text": [
      "256\n"
     ]
    }
   ],
   "source": [
    "# check quantizability\n",
    "for i in [2**8, 2**16]:\n",
    "    step = (max_error - min_error) / i\n",
    "    do_quant = i if (step/2) / vRange < eps else 0\n",
    "    \n",
    "    if do_quant:\n",
    "        break\n",
    "    \n",
    "print(do_quant)\n",
    "\n",
    "E_datatype = np.float32\n",
    "\n",
    "if do_quant == 2**8:\n",
    "    E_datatype = np.uint8\n",
    "elif do_quant == 2**16:\n",
    "    E_datatype = np.uint16"
   ],
   "metadata": {
    "collapsed": false,
    "ExecuteTime": {
     "end_time": "2024-11-11T12:28:46.318048Z",
     "start_time": "2024-11-11T12:28:46.304791Z"
    }
   },
   "id": "bd8b7b606192a480",
   "execution_count": 5
  },
  {
   "cell_type": "code",
   "outputs": [
    {
     "name": "stdout",
     "output_type": "stream",
     "text": [
      "8.962008103625233e-05\n"
     ]
    }
   ],
   "source": [
    "step = (max_error - min_error) / 256\n",
    "print((step/2) / vRange)"
   ],
   "metadata": {
    "collapsed": false,
    "ExecuteTime": {
     "end_time": "2024-11-11T12:28:46.333333Z",
     "start_time": "2024-11-11T12:28:46.322334Z"
    }
   },
   "id": "ca23d9ff757dcb9b",
   "execution_count": 6
  },
  {
   "cell_type": "code",
   "outputs": [
    {
     "name": "stdout",
     "output_type": "stream",
     "text": [
      "0.129923545111063\n"
     ]
    }
   ],
   "source": [
    "print(percent_error)\n",
    "\n",
    "#decide whether to be sparse here:\n",
    "is_sparse = True if percent_error < 0.2 else False"
   ],
   "metadata": {
    "collapsed": false,
    "ExecuteTime": {
     "end_time": "2024-11-11T12:28:46.348160Z",
     "start_time": "2024-11-11T12:28:46.335852Z"
    }
   },
   "id": "bf8be240a8dd886b",
   "execution_count": 7
  },
  {
   "cell_type": "code",
   "outputs": [],
   "source": [
    "is_sparse = True"
   ],
   "metadata": {
    "collapsed": false,
    "ExecuteTime": {
     "end_time": "2024-11-11T12:28:46.363391Z",
     "start_time": "2024-11-11T12:28:46.351162Z"
    }
   },
   "id": "ebf8947731cabb07",
   "execution_count": 8
  },
  {
   "cell_type": "code",
   "outputs": [
    {
     "name": "stderr",
     "output_type": "stream",
     "text": [
      "100%|██████████| 1215/1215 [09:04<00:00,  2.23it/s]\n"
     ]
    }
   ],
   "source": [
    "createDB(\"arrayE\", \"E\", (num_SVD_matrices, SVD_shape[0], SVD_shape[1]), (1, SVD_shape[0], SVD_shape[1]), sparse=is_sparse, data_type=E_datatype)\n",
    "populateErrorArray(max_error, min_error, vRange, data_avg, do_quant, E_datatype, is_sparse)"
   ],
   "metadata": {
    "collapsed": false,
    "ExecuteTime": {
     "end_time": "2024-11-11T12:37:53.729649Z",
     "start_time": "2024-11-11T12:28:46.366391Z"
    }
   },
   "id": "95668133e7120b43",
   "execution_count": 9
  },
  {
   "cell_type": "code",
   "outputs": [],
   "source": [
    "param_dict = {}\n",
    "parameter_names = [\"max_val\", \"min_val\", \"data_avg\", \"vRange\", \"do_quant\", \"max_error\", \"min_error\", \"E_datatype\"]\n",
    "\n",
    "for i in parameter_names:\n",
    "    if i == \"E_datatype\":\n",
    "        param_dict[i] = str(globals()[i])\n",
    "\n",
    "    else: param_dict[i] = float(globals()[i])\n",
    "\n",
    "with open(\"parameters.json\", \"w\") as f:\n",
    "    json.dump(param_dict, f)"
   ],
   "metadata": {
    "collapsed": false,
    "ExecuteTime": {
     "end_time": "2024-11-11T12:38:23.701240Z",
     "start_time": "2024-11-11T12:38:23.682646Z"
    }
   },
   "id": "9801e51d8b7aadb1",
   "execution_count": 12
  },
  {
   "cell_type": "code",
   "outputs": [],
   "source": [
    "with open(\"parameters.json\", \"r\") as f:\n",
    "    param_dict = json.load(f)\n",
    "\n",
    "for key, value in param_dict.items():\n",
    "    if key == \"E_datatype\":\n",
    "        if \"8\" in value:\n",
    "            \n",
    "            E_datatype = np.uint8\n",
    "        elif \"16\" in value:\n",
    "            E_datatype = np.uint16\n",
    "        else: E_datatype = np.float32\n",
    "    \n",
    "    globals()[key] = np.float32(value)"
   ],
   "metadata": {
    "collapsed": false
   },
   "id": "5bd0115a07d2926"
  },
  {
   "cell_type": "code",
   "outputs": [
    {
     "ename": "TypeError",
     "evalue": "reconstructAndCheck() missing 1 required positional argument: 'is_sparse'",
     "output_type": "error",
     "traceback": [
      "\u001B[1;31m---------------------------------------------------------------------------\u001B[0m",
      "\u001B[1;31mTypeError\u001B[0m                                 Traceback (most recent call last)",
      "Cell \u001B[1;32mIn[10], line 1\u001B[0m\n\u001B[1;32m----> 1\u001B[0m \u001B[43mreconstructAndCheck\u001B[49m\u001B[43m(\u001B[49m\u001B[43mmax_error\u001B[49m\u001B[43m,\u001B[49m\u001B[43m \u001B[49m\u001B[43mmin_error\u001B[49m\u001B[43m,\u001B[49m\u001B[43m \u001B[49m\u001B[43mvRange\u001B[49m\u001B[43m,\u001B[49m\u001B[43m \u001B[49m\u001B[43mdata_avg\u001B[49m\u001B[43m,\u001B[49m\u001B[43m \u001B[49m\u001B[43mdo_quant\u001B[49m\u001B[43m)\u001B[49m\n",
      "\u001B[1;31mTypeError\u001B[0m: reconstructAndCheck() missing 1 required positional argument: 'is_sparse'"
     ]
    }
   ],
   "source": [
    "reconstructAndCheck(max_error, min_error, vRange, data_avg, do_quant, is_sparse)"
   ],
   "metadata": {
    "collapsed": false,
    "ExecuteTime": {
     "end_time": "2024-11-11T12:37:54.158409Z",
     "start_time": "2024-11-11T12:37:53.730650Z"
    }
   },
   "id": "79f166fdb494376e",
   "execution_count": 10
  },
  {
   "cell_type": "code",
   "outputs": [
    {
     "name": "stdout",
     "output_type": "stream",
     "text": [
      "16624609629\n",
      "9459690128 1370337231\n",
      "Compression ratio p: 1.5350477960874742\n"
     ]
    }
   ],
   "source": [
    "if getCompressionRatio() < 2:\n",
    "    pass"
   ],
   "metadata": {
    "collapsed": false,
    "ExecuteTime": {
     "end_time": "2024-11-11T12:39:58.579789Z",
     "start_time": "2024-11-11T12:39:56.667889Z"
    }
   },
   "id": "933216fb545df219",
   "execution_count": 13
  },
  {
   "cell_type": "code",
   "outputs": [],
   "source": [],
   "metadata": {
    "collapsed": false
   },
   "id": "9288fafdc6d7a79a"
  }
 ],
 "metadata": {
  "kernelspec": {
   "display_name": "Python 3",
   "language": "python",
   "name": "python3"
  },
  "language_info": {
   "codemirror_mode": {
    "name": "ipython",
    "version": 2
   },
   "file_extension": ".py",
   "mimetype": "text/x-python",
   "name": "python",
   "nbconvert_exporter": "python",
   "pygments_lexer": "ipython2",
   "version": "2.7.6"
  }
 },
 "nbformat": 4,
 "nbformat_minor": 5
}
