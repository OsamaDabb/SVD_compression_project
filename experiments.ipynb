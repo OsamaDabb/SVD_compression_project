{
 "cells": [
  {
   "cell_type": "markdown",
   "source": [
    "# Imports & Definitions"
   ],
   "metadata": {
    "collapsed": false
   },
   "id": "854ddfed8d0bf1a5"
  },
  {
   "cell_type": "code",
   "outputs": [],
   "source": [
    "from SVD_utils import *\n",
    "from Error_utils import *\n",
    "import json\n",
    "import numpy as np\n",
    "from config import *"
   ],
   "metadata": {
    "collapsed": true,
    "ExecuteTime": {
     "end_time": "2024-12-05T20:31:37.948690Z",
     "start_time": "2024-12-05T20:31:35.162596Z"
    }
   },
   "id": "initial_id",
   "execution_count": 1
  },
  {
   "cell_type": "markdown",
   "source": [
    "# Creating arrayD"
   ],
   "metadata": {
    "collapsed": false
   },
   "id": "9862a3ae8b0122da"
  },
  {
   "cell_type": "code",
   "outputs": [],
   "source": [
    "deleteArrays(D=True)\n",
    "createDB(\"arrayD\", \"Temperatures\", (num_images, image_height, image_width), (tile_thickness, tile_height, tile_width))\n",
    "createDB(\"arrayD_prime\", \"Temperatures\", (num_images, image_height, image_width), (tile_thickness, tile_height, tile_width))\n",
    "max_val, min_val, data_avg = populateArrayD()\n",
    "vRange = max_val - min_val"
   ],
   "metadata": {
    "collapsed": false,
    "ExecuteTime": {
     "end_time": "2024-12-03T07:51:13.365996Z",
     "start_time": "2024-12-03T07:50:07.243588Z"
    }
   },
   "id": "5ed597d8f65c6031",
   "execution_count": 2
  },
  {
   "cell_type": "markdown",
   "source": [
    "# SVD related work"
   ],
   "metadata": {
    "collapsed": false
   },
   "id": "80263d7bf3561208"
  },
  {
   "cell_type": "code",
   "outputs": [],
   "source": [
    "deleteArrays(D=False)\n",
    "createDB(\"arrayUr\", \"U\", db_shape=(num_SVD_matrices, SVD_shape[0], k), tile_shape=(1,SVD_shape[0],k), data_type=np.float32)\n",
    "createDB(\"arraySr\", \"S\", db_shape=(num_SVD_matrices, k, 1), tile_shape=(1,k,1), data_type=np.float32)\n",
    "createDB(\"arrayVr\", \"V\", db_shape=(num_SVD_matrices, k, SVD_shape[1]), tile_shape=(1,k,SVD_shape[1]), data_type=np.float32)"
   ],
   "metadata": {
    "collapsed": false,
    "ExecuteTime": {
     "end_time": "2024-12-03T07:51:13.457740Z",
     "start_time": "2024-12-03T07:51:13.387128Z"
    }
   },
   "id": "74cecb0e2fda26eb",
   "execution_count": 3
  },
  {
   "cell_type": "code",
   "outputs": [
    {
     "name": "stderr",
     "output_type": "stream",
     "text": [
      "100%|██████████| 243/243 [19:43<00:00,  4.87s/it]\n"
     ]
    }
   ],
   "source": [
    "max_error, min_error, percent_error = compressData(data_avg, vRange)"
   ],
   "metadata": {
    "collapsed": false,
    "ExecuteTime": {
     "end_time": "2024-12-03T08:10:57.687299Z",
     "start_time": "2024-12-03T07:51:13.458741Z"
    }
   },
   "id": "4ad07cb190597968",
   "execution_count": 4
  },
  {
   "cell_type": "code",
   "outputs": [
    {
     "name": "stdout",
     "output_type": "stream",
     "text": [
      "256\n"
     ]
    }
   ],
   "source": [
    "# check quantizability\n",
    "do_quant = 0\n",
    "\n",
    "for i in [2**8, 2**16]:\n",
    "    step = (max_error - min_error) / i\n",
    "    \n",
    "    if (step/2) / vRange < eps:\n",
    "        do_quant = i \n",
    "        break\n",
    "    \n",
    "print(do_quant)\n",
    "\n",
    "E_datatype = np.float32\n",
    "\n",
    "if do_quant == 2**8:\n",
    "    E_datatype = np.uint8\n",
    "elif do_quant == 2**16:\n",
    "    E_datatype = np.uint16"
   ],
   "metadata": {
    "collapsed": false,
    "ExecuteTime": {
     "end_time": "2024-12-03T08:10:57.702330Z",
     "start_time": "2024-12-03T08:10:57.689299Z"
    }
   },
   "id": "bd8b7b606192a480",
   "execution_count": 5
  },
  {
   "cell_type": "code",
   "outputs": [
    {
     "name": "stdout",
     "output_type": "stream",
     "text": [
      "0.0276557694991938\n",
      "16.593039512634277\n"
     ]
    }
   ],
   "source": [
    "print(percent_error)\n",
    "print(max_error - min_error)\n",
    "\n",
    "#decide whether to be sparse here:\n",
    "is_sparse = True if percent_error < 0.33 else False"
   ],
   "metadata": {
    "collapsed": false,
    "ExecuteTime": {
     "end_time": "2024-12-03T08:10:57.717453Z",
     "start_time": "2024-12-03T08:10:57.703324Z"
    }
   },
   "id": "bf8be240a8dd886b",
   "execution_count": 6
  },
  {
   "cell_type": "code",
   "outputs": [
    {
     "name": "stderr",
     "output_type": "stream",
     "text": [
      "100%|██████████| 243/243 [02:30<00:00,  1.62it/s]\n"
     ]
    }
   ],
   "source": [
    "createDB(\"arrayE\", \"E\", (num_SVD_matrices, SVD_shape[0], SVD_shape[1]), (1, SVD_shape[0], SVD_shape[1]), sparse=is_sparse, data_type=E_datatype)\n",
    "populateErrorArray(max_error, min_error, vRange, data_avg, do_quant, E_datatype, is_sparse)"
   ],
   "metadata": {
    "collapsed": false,
    "ExecuteTime": {
     "end_time": "2024-12-03T08:13:28.593926Z",
     "start_time": "2024-12-03T08:10:57.718678Z"
    }
   },
   "id": "95668133e7120b43",
   "execution_count": 7
  },
  {
   "cell_type": "code",
   "outputs": [
    {
     "name": "stderr",
     "output_type": "stream",
     "text": [
      "100%|██████████| 243/243 [02:07<00:00,  1.90it/s]"
     ]
    },
    {
     "name": "stdout",
     "output_type": "stream",
     "text": [
      "Check successful\n"
     ]
    },
    {
     "name": "stderr",
     "output_type": "stream",
     "text": [
      "\n"
     ]
    }
   ],
   "source": [
    "reconstructAndCheck(max_error, min_error, vRange, data_avg, do_quant, is_sparse)"
   ],
   "metadata": {
    "collapsed": false,
    "ExecuteTime": {
     "end_time": "2024-12-03T08:15:36.706077Z",
     "start_time": "2024-12-03T08:13:28.595907Z"
    }
   },
   "id": "79f166fdb494376e",
   "execution_count": 8
  },
  {
   "cell_type": "code",
   "outputs": [
    {
     "name": "stdout",
     "output_type": "stream",
     "text": [
      "16624291033\n",
      "566785455 364512765\n",
      "Compression ratio p: 17.85066338148912\n"
     ]
    },
    {
     "data": {
      "text/plain": "17.85066338148912"
     },
     "execution_count": 9,
     "metadata": {},
     "output_type": "execute_result"
    }
   ],
   "source": [
    "getCompressionRatio()"
   ],
   "metadata": {
    "collapsed": false,
    "ExecuteTime": {
     "end_time": "2024-12-03T08:15:36.957292Z",
     "start_time": "2024-12-03T08:15:36.707077Z"
    }
   },
   "id": "933216fb545df219",
   "execution_count": 9
  },
  {
   "cell_type": "markdown",
   "source": [
    "# Saving Parameters"
   ],
   "metadata": {
    "collapsed": false
   },
   "id": "e4f7071467bdb0fa"
  },
  {
   "cell_type": "code",
   "outputs": [],
   "source": [
    "param_dict = {}\n",
    "parameter_names = [\"max_val\", \"min_val\", \"data_avg\", \"vRange\", \"do_quant\", \"max_error\", \"min_error\", \"E_datatype\"]\n",
    "\n",
    "for i in parameter_names:\n",
    "    if i == \"E_datatype\":\n",
    "        param_dict[i] = str(globals()[i])\n",
    "\n",
    "    else: param_dict[i] = float(globals()[i])\n",
    "\n",
    "with open(\"parameters.json\", \"w\") as f:\n",
    "    json.dump(param_dict, f)"
   ],
   "metadata": {
    "collapsed": false,
    "ExecuteTime": {
     "end_time": "2024-12-03T08:32:42.263832Z",
     "start_time": "2024-12-03T08:32:42.245460Z"
    }
   },
   "id": "9801e51d8b7aadb1",
   "execution_count": 10
  },
  {
   "cell_type": "code",
   "outputs": [],
   "source": [
    "with open(\"parameters.json\", \"r\") as f:\n",
    "    param_dict = json.load(f)\n",
    "\n",
    "for key, value in param_dict.items():\n",
    "    if key == \"E_datatype\":\n",
    "        if \"8\" in value:\n",
    "            E_datatype = np.uint8\n",
    "        elif \"16\" in value:\n",
    "            E_datatype = np.uint16\n",
    "        else: E_datatype = np.float32\n",
    "    else:\n",
    "        globals()[key] = np.float32(value)"
   ],
   "metadata": {
    "collapsed": false,
    "ExecuteTime": {
     "end_time": "2024-11-25T15:17:50.594498Z",
     "start_time": "2024-11-25T15:17:50.576465Z"
    }
   },
   "id": "5bd0115a07d2926",
   "execution_count": 2
  }
 ],
 "metadata": {
  "kernelspec": {
   "display_name": "Python 3",
   "language": "python",
   "name": "python3"
  },
  "language_info": {
   "codemirror_mode": {
    "name": "ipython",
    "version": 2
   },
   "file_extension": ".py",
   "mimetype": "text/x-python",
   "name": "python",
   "nbconvert_exporter": "python",
   "pygments_lexer": "ipython2",
   "version": "2.7.6"
  }
 },
 "nbformat": 4,
 "nbformat_minor": 5
}
