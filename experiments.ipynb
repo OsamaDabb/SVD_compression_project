{
 "cells": [
  {
   "cell_type": "markdown",
   "source": [
    "# Imports & Definitions"
   ],
   "metadata": {
    "collapsed": false
   },
   "id": "854ddfed8d0bf1a5"
  },
  {
   "cell_type": "code",
   "outputs": [],
   "source": [
    "from SVD_utils import *\n",
    "from Error_utils import *\n",
    "import json\n",
    "import numpy as np"
   ],
   "metadata": {
    "collapsed": true,
    "ExecuteTime": {
     "end_time": "2024-11-21T12:07:21.158627Z",
     "start_time": "2024-11-21T12:07:19.206036Z"
    }
   },
   "id": "initial_id",
   "execution_count": 1
  },
  {
   "cell_type": "markdown",
   "source": [
    "# Creating arrayD"
   ],
   "metadata": {
    "collapsed": false
   },
   "id": "9862a3ae8b0122da"
  },
  {
   "cell_type": "code",
   "outputs": [],
   "source": [
    "deleteArrays(D=True)\n",
    "createDB(\"arrayD\", \"Temperatures\", (num_images, image_height, image_width), (tile_thickness, tile_height, tile_width))\n",
    "createDB(\"arrayD_prime\", \"Temperatures\", (num_images, image_height, image_width), (tile_thickness, tile_height, tile_width))\n",
    "max_val, min_val, data_avg = populateArrayD()\n",
    "vRange = max_val - min_val"
   ],
   "metadata": {
    "collapsed": false,
    "ExecuteTime": {
     "end_time": "2024-11-21T11:07:51.976589Z",
     "start_time": "2024-11-21T11:06:57.241171Z"
    }
   },
   "id": "5ed597d8f65c6031",
   "execution_count": 3
  },
  {
   "cell_type": "markdown",
   "source": [
    "# SVD related work"
   ],
   "metadata": {
    "collapsed": false
   },
   "id": "80263d7bf3561208"
  },
  {
   "cell_type": "code",
   "outputs": [],
   "source": [
    "deleteArrays(D=False)\n",
    "createDB(\"arrayUr\", \"U\", db_shape=(num_SVD_matrices, SVD_shape[0], k), tile_shape=(1,SVD_shape[0],k), data_type=np.float32)\n",
    "createDB(\"arraySr\", \"S\", db_shape=(num_SVD_matrices, k, 1), tile_shape=(1,k,1), data_type=np.float32)\n",
    "createDB(\"arrayVr\", \"V\", db_shape=(num_SVD_matrices, k, SVD_shape[1]), tile_shape=(1,k,SVD_shape[1]), data_type=np.float32)"
   ],
   "metadata": {
    "collapsed": false,
    "ExecuteTime": {
     "end_time": "2024-11-21T12:07:39.347217Z",
     "start_time": "2024-11-21T12:07:39.314794Z"
    }
   },
   "id": "74cecb0e2fda26eb",
   "execution_count": 3
  },
  {
   "cell_type": "code",
   "outputs": [
    {
     "name": "stderr",
     "output_type": "stream",
     "text": [
      "100%|██████████| 855/855 [03:42<00:00,  3.85it/s]\n"
     ]
    }
   ],
   "source": [
    "max_error, min_error, percent_error = compressData(data_avg, vRange)"
   ],
   "metadata": {
    "collapsed": false,
    "ExecuteTime": {
     "end_time": "2024-11-21T12:11:41.079305Z",
     "start_time": "2024-11-21T12:07:58.692800Z"
    }
   },
   "id": "4ad07cb190597968",
   "execution_count": 7
  },
  {
   "cell_type": "code",
   "outputs": [
    {
     "name": "stdout",
     "output_type": "stream",
     "text": [
      "256\n"
     ]
    }
   ],
   "source": [
    "# check quantizability\n",
    "do_quant = 0\n",
    "\n",
    "for i in [2**8, 2**16]:\n",
    "    step = (max_error - min_error) / i\n",
    "    \n",
    "    if (step/2) / vRange < eps:\n",
    "        do_quant = i \n",
    "        break\n",
    "    \n",
    "print(do_quant)\n",
    "\n",
    "E_datatype = np.float32\n",
    "\n",
    "if do_quant == 2**8:\n",
    "    E_datatype = np.uint8\n",
    "elif do_quant == 2**16:\n",
    "    E_datatype = np.uint16"
   ],
   "metadata": {
    "collapsed": false,
    "ExecuteTime": {
     "end_time": "2024-11-21T12:16:02.455213Z",
     "start_time": "2024-11-21T12:16:02.442201Z"
    }
   },
   "id": "bd8b7b606192a480",
   "execution_count": 8
  },
  {
   "cell_type": "code",
   "outputs": [
    {
     "name": "stdout",
     "output_type": "stream",
     "text": [
      "0.0005746626849361167\n"
     ]
    }
   ],
   "source": [
    "step = (max_error - min_error) / 256\n",
    "print((step/2) / vRange)"
   ],
   "metadata": {
    "collapsed": false,
    "ExecuteTime": {
     "end_time": "2024-11-21T12:16:04.176861Z",
     "start_time": "2024-11-21T12:16:04.169729Z"
    }
   },
   "id": "ca23d9ff757dcb9b",
   "execution_count": 9
  },
  {
   "cell_type": "code",
   "outputs": [
    {
     "name": "stdout",
     "output_type": "stream",
     "text": [
      "0.06498722450845908\n"
     ]
    }
   ],
   "source": [
    "print(percent_error)\n",
    "\n",
    "#decide whether to be sparse here:\n",
    "is_sparse = True if percent_error < 0.33 else False"
   ],
   "metadata": {
    "collapsed": false,
    "ExecuteTime": {
     "end_time": "2024-11-21T12:17:09.190252Z",
     "start_time": "2024-11-21T12:17:09.175722Z"
    }
   },
   "id": "bf8be240a8dd886b",
   "execution_count": 10
  },
  {
   "cell_type": "code",
   "outputs": [
    {
     "data": {
      "text/plain": "24.997692108154297"
     },
     "execution_count": 11,
     "metadata": {},
     "output_type": "execute_result"
    }
   ],
   "source": [
    "max_error - min_error"
   ],
   "metadata": {
    "collapsed": false,
    "ExecuteTime": {
     "end_time": "2024-11-21T12:17:17.836047Z",
     "start_time": "2024-11-21T12:17:17.815046Z"
    }
   },
   "id": "a4d82e3ade1324a8",
   "execution_count": 11
  },
  {
   "cell_type": "code",
   "outputs": [
    {
     "name": "stderr",
     "output_type": "stream",
     "text": [
      "100%|██████████| 855/855 [05:02<00:00,  2.83it/s]\n"
     ]
    }
   ],
   "source": [
    "createDB(\"arrayE\", \"E\", (num_SVD_matrices, SVD_shape[0], SVD_shape[1]), (1, SVD_shape[0], SVD_shape[1]), sparse=is_sparse, data_type=E_datatype)\n",
    "populateErrorArray(max_error, min_error, vRange, data_avg, do_quant, E_datatype, is_sparse)"
   ],
   "metadata": {
    "collapsed": false,
    "ExecuteTime": {
     "end_time": "2024-11-21T12:22:29.812070Z",
     "start_time": "2024-11-21T12:17:27.085129Z"
    }
   },
   "id": "95668133e7120b43",
   "execution_count": 12
  },
  {
   "cell_type": "code",
   "outputs": [
    {
     "name": "stderr",
     "output_type": "stream",
     "text": [
      "100%|██████████| 1215/1215 [02:56<00:00,  6.87it/s]"
     ]
    },
    {
     "name": "stdout",
     "output_type": "stream",
     "text": [
      "Check successful\n"
     ]
    },
    {
     "name": "stderr",
     "output_type": "stream",
     "text": [
      "\n"
     ]
    }
   ],
   "source": [
    "reconstructAndCheck(max_error, min_error, vRange, data_avg, do_quant, is_sparse)"
   ],
   "metadata": {
    "collapsed": false,
    "ExecuteTime": {
     "end_time": "2024-11-20T20:16:30.264065Z",
     "start_time": "2024-11-20T20:13:31.433313Z"
    }
   },
   "id": "79f166fdb494376e",
   "execution_count": 35
  },
  {
   "cell_type": "markdown",
   "source": [
    "# JSON and Compression"
   ],
   "metadata": {
    "collapsed": false
   },
   "id": "e4f7071467bdb0fa"
  },
  {
   "cell_type": "code",
   "outputs": [
    {
     "name": "stdout",
     "output_type": "stream",
     "text": [
      "16624538526\n",
      "726271427 684072194\n",
      "Compression ratio p: 11.787580188587246\n"
     ]
    },
    {
     "data": {
      "text/plain": "11.787580188587246"
     },
     "execution_count": 13,
     "metadata": {},
     "output_type": "execute_result"
    }
   ],
   "source": [
    "getCompressionRatio()"
   ],
   "metadata": {
    "collapsed": false,
    "ExecuteTime": {
     "end_time": "2024-11-21T12:23:05.703396Z",
     "start_time": "2024-11-21T12:23:04.739328Z"
    }
   },
   "id": "933216fb545df219",
   "execution_count": 13
  },
  {
   "cell_type": "code",
   "outputs": [
    {
     "ename": "KeyError",
     "evalue": "'max_val'",
     "output_type": "error",
     "traceback": [
      "\u001B[1;31m---------------------------------------------------------------------------\u001B[0m",
      "\u001B[1;31mKeyError\u001B[0m                                  Traceback (most recent call last)",
      "Cell \u001B[1;32mIn[5], line 8\u001B[0m\n\u001B[0;32m      5\u001B[0m     \u001B[38;5;28;01mif\u001B[39;00m i \u001B[38;5;241m==\u001B[39m \u001B[38;5;124m\"\u001B[39m\u001B[38;5;124mE_datatype\u001B[39m\u001B[38;5;124m\"\u001B[39m:\n\u001B[0;32m      6\u001B[0m         param_dict[i] \u001B[38;5;241m=\u001B[39m \u001B[38;5;28mstr\u001B[39m(\u001B[38;5;28mglobals\u001B[39m()[i])\n\u001B[1;32m----> 8\u001B[0m     \u001B[38;5;28;01melse\u001B[39;00m: param_dict[i] \u001B[38;5;241m=\u001B[39m \u001B[38;5;28mfloat\u001B[39m(\u001B[38;5;28;43mglobals\u001B[39;49m\u001B[43m(\u001B[49m\u001B[43m)\u001B[49m\u001B[43m[\u001B[49m\u001B[43mi\u001B[49m\u001B[43m]\u001B[49m)\n\u001B[0;32m     10\u001B[0m \u001B[38;5;28;01mwith\u001B[39;00m \u001B[38;5;28mopen\u001B[39m(\u001B[38;5;124m\"\u001B[39m\u001B[38;5;124mparameters.json\u001B[39m\u001B[38;5;124m\"\u001B[39m, \u001B[38;5;124m\"\u001B[39m\u001B[38;5;124mw\u001B[39m\u001B[38;5;124m\"\u001B[39m) \u001B[38;5;28;01mas\u001B[39;00m f:\n\u001B[0;32m     11\u001B[0m     json\u001B[38;5;241m.\u001B[39mdump(param_dict, f)\n",
      "\u001B[1;31mKeyError\u001B[0m: 'max_val'"
     ]
    }
   ],
   "source": [
    "param_dict = {}\n",
    "parameter_names = [\"max_val\", \"min_val\", \"data_avg\", \"vRange\", \"do_quant\", \"max_error\", \"min_error\", \"E_datatype\"]\n",
    "\n",
    "for i in parameter_names:\n",
    "    if i == \"E_datatype\":\n",
    "        param_dict[i] = str(globals()[i])\n",
    "\n",
    "    else: param_dict[i] = float(globals()[i])\n",
    "\n",
    "with open(\"parameters.json\", \"w\") as f:\n",
    "    json.dump(param_dict, f)"
   ],
   "metadata": {
    "collapsed": false,
    "ExecuteTime": {
     "end_time": "2024-11-21T12:07:47.619632Z",
     "start_time": "2024-11-21T12:07:47.597517Z"
    }
   },
   "id": "9801e51d8b7aadb1",
   "execution_count": 5
  },
  {
   "cell_type": "code",
   "outputs": [],
   "source": [
    "with open(\"parameters.json\", \"r\") as f:\n",
    "    param_dict = json.load(f)\n",
    "\n",
    "for key, value in param_dict.items():\n",
    "    if key == \"E_datatype\":\n",
    "        if \"8\" in value:\n",
    "            E_datatype = np.uint8\n",
    "        elif \"16\" in value:\n",
    "            E_datatype = np.uint16\n",
    "        else: E_datatype = np.float32\n",
    "    else:\n",
    "        globals()[key] = np.float32(value)"
   ],
   "metadata": {
    "collapsed": false,
    "ExecuteTime": {
     "end_time": "2024-11-21T12:07:50.380243Z",
     "start_time": "2024-11-21T12:07:50.356245Z"
    }
   },
   "id": "5bd0115a07d2926",
   "execution_count": 6
  },
  {
   "cell_type": "markdown",
   "source": [
    "# Extras"
   ],
   "metadata": {
    "collapsed": false
   },
   "id": "e0b30a86f03468f0"
  },
  {
   "cell_type": "code",
   "outputs": [],
   "source": [
    "param_dict = {}\n",
    "parameter_names = [\"max_val\", \"min_val\", \"data_avg\", \"vRange\"]\n",
    "\n",
    "for i in parameter_names:\n",
    "    param_dict[i] = float(globals()[i])\n",
    "\n",
    "with open(\"parameters.json\", \"w\") as f:\n",
    "    json.dump(param_dict, f)"
   ],
   "metadata": {
    "collapsed": false,
    "ExecuteTime": {
     "end_time": "2024-11-10T09:24:40.120077Z",
     "start_time": "2024-11-10T09:23:36.101186Z"
    }
   },
   "id": "e7a20d32a3d1c085",
   "execution_count": 5
  },
  {
   "cell_type": "code",
   "outputs": [],
   "source": [
    "with open(\"parameters.json\", \"r\") as f:\n",
    "    param_dict = json.load(f)\n",
    "\n",
    "for key, value in param_dict.items():\n",
    "    globals()[key] = np.float32(value)"
   ],
   "metadata": {
    "collapsed": false,
    "ExecuteTime": {
     "end_time": "2024-11-11T12:24:04.352351Z",
     "start_time": "2024-11-11T12:24:04.346337Z"
    }
   },
   "id": "96cc1e277b0b7aaf",
   "execution_count": 2
  }
 ],
 "metadata": {
  "kernelspec": {
   "display_name": "Python 3",
   "language": "python",
   "name": "python3"
  },
  "language_info": {
   "codemirror_mode": {
    "name": "ipython",
    "version": 2
   },
   "file_extension": ".py",
   "mimetype": "text/x-python",
   "name": "python",
   "nbconvert_exporter": "python",
   "pygments_lexer": "ipython2",
   "version": "2.7.6"
  }
 },
 "nbformat": 4,
 "nbformat_minor": 5
}
