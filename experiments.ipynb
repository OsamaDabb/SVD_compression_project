{
 "cells": [
  {
   "cell_type": "markdown",
   "source": [
    "# Imports & Definitions"
   ],
   "metadata": {
    "collapsed": false
   },
   "id": "854ddfed8d0bf1a5"
  },
  {
   "cell_type": "code",
   "outputs": [],
   "source": [
    "from SVD_utils import *\n",
    "from Error_utils import *\n",
    "import json\n",
    "import numpy as np"
   ],
   "metadata": {
    "collapsed": true,
    "ExecuteTime": {
     "end_time": "2024-11-10T09:26:45.370727Z",
     "start_time": "2024-11-10T09:26:42.984329Z"
    }
   },
   "id": "initial_id",
   "execution_count": 1
  },
  {
   "cell_type": "markdown",
   "source": [
    "# Creating arrayD"
   ],
   "metadata": {
    "collapsed": false
   },
   "id": "9862a3ae8b0122da"
  },
  {
   "cell_type": "code",
   "outputs": [],
   "source": [
    "deleteArrays(D=True)\n",
    "createDB(\"arrayD\", \"Temperatures\", (num_images, image_height, image_width), (tile_thickness, tile_height, tile_width))\n",
    "max_val, min_val, data_avg = populateArrayD()\n",
    "vRange = max_val - min_val"
   ],
   "metadata": {
    "collapsed": false,
    "ExecuteTime": {
     "end_time": "2024-11-10T09:24:40.120077Z",
     "start_time": "2024-11-10T09:23:36.101186Z"
    }
   },
   "id": "e7a20d32a3d1c085",
   "execution_count": 5
  },
  {
   "cell_type": "code",
   "outputs": [],
   "source": [
    "param_dict = {}\n",
    "parameter_names = [\"max_val\", \"min_val\", \"data_avg\", \"vRange\"]\n",
    "\n",
    "for i in parameter_names:\n",
    "    \n",
    "    param_dict[i] = float(globals()[i])\n",
    "\n",
    "\n",
    "with open(\"parameters.json\", \"w\") as f:\n",
    "    json.dump(param_dict, f)"
   ],
   "metadata": {
    "collapsed": false,
    "ExecuteTime": {
     "end_time": "2024-11-10T09:24:40.136094Z",
     "start_time": "2024-11-10T09:24:40.122584Z"
    }
   },
   "id": "2d5c9e39592676c6",
   "execution_count": 6
  },
  {
   "cell_type": "code",
   "outputs": [],
   "source": [
    "with open(\"parameters.json\", \"r\") as f:\n",
    "    param_dict = json.load(f)\n",
    "\n",
    "for key, value in param_dict.items():\n",
    "    globals()[key] = np.float32(value)"
   ],
   "metadata": {
    "collapsed": false,
    "ExecuteTime": {
     "end_time": "2024-11-10T09:26:46.080609Z",
     "start_time": "2024-11-10T09:26:46.071708Z"
    }
   },
   "id": "96cc1e277b0b7aaf",
   "execution_count": 2
  },
  {
   "cell_type": "markdown",
   "source": [
    "# SVD related work"
   ],
   "metadata": {
    "collapsed": false
   },
   "id": "80263d7bf3561208"
  },
  {
   "cell_type": "code",
   "outputs": [],
   "source": [
    "deleteArrays(D=False)\n",
    "createDB(\"arrayUr\", \"U\", db_shape=(num_SVD_matrices, SVD_shape[0], k), tile_shape=(1,SVD_shape[0],k), data_type=np.float32)\n",
    "createDB(\"arraySr\", \"S\", db_shape=(num_SVD_matrices, k, 1), tile_shape=(1,k,1), data_type=np.float32)\n",
    "createDB(\"arrayVr\", \"V\", db_shape=(num_SVD_matrices, k, SVD_shape[1]), tile_shape=(1,k,SVD_shape[1]), data_type=np.float32)"
   ],
   "metadata": {
    "collapsed": false,
    "ExecuteTime": {
     "end_time": "2024-11-10T09:26:50.731097Z",
     "start_time": "2024-11-10T09:26:50.683975Z"
    }
   },
   "id": "74cecb0e2fda26eb",
   "execution_count": 3
  },
  {
   "cell_type": "code",
   "outputs": [
    {
     "name": "stderr",
     "output_type": "stream",
     "text": [
      "100%|██████████| 1215/1215 [03:55<00:00,  5.17it/s]\n"
     ]
    }
   ],
   "source": [
    "max_error, min_error = compressData(data_avg)"
   ],
   "metadata": {
    "collapsed": false,
    "ExecuteTime": {
     "end_time": "2024-11-10T09:30:46.284780Z",
     "start_time": "2024-11-10T09:26:51.166842Z"
    }
   },
   "id": "4ad07cb190597968",
   "execution_count": 4
  },
  {
   "cell_type": "code",
   "outputs": [
    {
     "name": "stdout",
     "output_type": "stream",
     "text": [
      "True\n"
     ]
    }
   ],
   "source": [
    "# check quantizability\n",
    "step = (max_error - min_error) / 256\n",
    "do_quant = (step/2) / vRange < eps\n",
    "print(do_quant)"
   ],
   "metadata": {
    "collapsed": false,
    "ExecuteTime": {
     "end_time": "2024-11-10T09:30:46.299780Z",
     "start_time": "2024-11-10T09:30:46.286780Z"
    }
   },
   "id": "bd8b7b606192a480",
   "execution_count": 5
  },
  {
   "cell_type": "code",
   "outputs": [
    {
     "name": "stderr",
     "output_type": "stream",
     "text": [
      "100%|██████████| 1215/1215 [08:14<00:00,  2.46it/s]\n"
     ]
    }
   ],
   "source": [
    "E_datatype = np.uint8 if do_quant else np.float32\n",
    "createDB(\"arrayE\", \"E\", (num_SVD_matrices, SVD_shape[0], SVD_shape[1]), (1, SVD_shape[0], SVD_shape[1]), sparse=True, data_type=E_datatype)\n",
    "populateErrorArray(max_error, min_error, data_avg, do_quant)"
   ],
   "metadata": {
    "collapsed": false,
    "ExecuteTime": {
     "end_time": "2024-11-10T09:39:03.737401Z",
     "start_time": "2024-11-10T09:30:46.300780Z"
    }
   },
   "id": "95668133e7120b43",
   "execution_count": 6
  },
  {
   "cell_type": "code",
   "outputs": [
    {
     "name": "stderr",
     "output_type": "stream",
     "text": [
      "100%|██████████| 1215/1215 [04:46<00:00,  4.24it/s]"
     ]
    },
    {
     "name": "stdout",
     "output_type": "stream",
     "text": [
      "Check successful\n"
     ]
    },
    {
     "name": "stderr",
     "output_type": "stream",
     "text": [
      "\n"
     ]
    }
   ],
   "source": [
    "createDB(\"arrayD_prime\", \"Temperatures\", (num_images, image_height, image_width), (tile_thickness, tile_height, tile_width))\n",
    "\n",
    "reconstructAndCheck(max_error, min_error, data_avg, do_quant)"
   ],
   "metadata": {
    "collapsed": false,
    "ExecuteTime": {
     "end_time": "2024-11-10T09:43:52.896024Z",
     "start_time": "2024-11-10T09:39:03.740406Z"
    }
   },
   "id": "801fdfd9eccb2ab0",
   "execution_count": 7
  },
  {
   "cell_type": "code",
   "outputs": [
    {
     "name": "stdout",
     "output_type": "stream",
     "text": [
      "16624609629\n",
      "489994108 982273717\n",
      "Compression ratio p: 11.291837902522932\n"
     ]
    },
    {
     "data": {
      "text/plain": "11.291837902522932"
     },
     "execution_count": 10,
     "metadata": {},
     "output_type": "execute_result"
    }
   ],
   "source": [
    "getCompressionRatio()"
   ],
   "metadata": {
    "collapsed": false,
    "ExecuteTime": {
     "end_time": "2024-11-10T09:48:27.466944Z",
     "start_time": "2024-11-10T09:48:26.169780Z"
    }
   },
   "id": "933216fb545df219",
   "execution_count": 10
  },
  {
   "cell_type": "code",
   "outputs": [],
   "source": [
    "11.29"
   ],
   "metadata": {
    "collapsed": false
   },
   "id": "aecd439e3bca362c"
  }
 ],
 "metadata": {
  "kernelspec": {
   "display_name": "Python 3",
   "language": "python",
   "name": "python3"
  },
  "language_info": {
   "codemirror_mode": {
    "name": "ipython",
    "version": 2
   },
   "file_extension": ".py",
   "mimetype": "text/x-python",
   "name": "python",
   "nbconvert_exporter": "python",
   "pygments_lexer": "ipython2",
   "version": "2.7.6"
  }
 },
 "nbformat": 4,
 "nbformat_minor": 5
}
